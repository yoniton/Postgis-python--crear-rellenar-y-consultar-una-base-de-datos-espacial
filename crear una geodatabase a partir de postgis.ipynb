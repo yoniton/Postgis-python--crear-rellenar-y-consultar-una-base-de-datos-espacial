{
 "cells": [
  {
   "cell_type": "code",
   "execution_count": 9,
   "id": "f04fac35-4490-45e5-bec4-009d2b9f9c20",
   "metadata": {
    "tags": []
   },
   "outputs": [
    {
     "name": "stdout",
     "output_type": "stream",
     "text": [
      "Conversión completada con éxito\n"
     ]
    }
   ],
   "source": [
    "import subprocess\n",
    "\n",
    "def convertir_postgis_a_gdb(postgis_conn_string, gdb_path):\n",
    "    \"\"\"\n",
    "    Convierte una base de datos PostGIS a una Geodatabase (FileGDB) usando ogr2ogr.\n",
    "    \n",
    "    :param postgis_conn_string: Cadena de conexión de PostGIS (ejemplo: \"PG:dbname=mi_base user=mi_usuario password=mi_contraseña host=localhost port=5432\")\n",
    "    :param gdb_path: Ruta de la geodatabase FileGDB de destino (ejemplo: /ruta/destino/mi_geodatabase.gdb)\n",
    "    \"\"\"\n",
    "    comando = [\n",
    "        \"ogr2ogr\",                # Herramienta de GDAL\n",
    "        \"-f\", \"OpenFileGDB\",          # Formato de destino\n",
    "        gdb_path,                 # Ruta destino FileGDB\n",
    "        postgis_conn_string,      # Cadena de conexión PostGIS\n",
    "    ]\n",
    "    \n",
    "    try:\n",
    "        # Ejecutar el comando en el sistema\n",
    "        subprocess.run(comando, check=True, capture_output=True, text=True)\n",
    "        print(\"Conversión completada con éxito\")\n",
    "    except subprocess.CalledProcessError as e:\n",
    "        # Captura el error y muestra el detalle\n",
    "        print(\"Error al ejecutar el comando ogr2ogr:\")\n",
    "        print(\"Código de error:\", e.returncode)\n",
    "        print(\"Salida estándar:\", e.stdout)\n",
    "        print(\"Error estándar:\", e.stderr)\n",
    "\n",
    "# Parámetros de conexión y ruta de destino\n",
    "postgis_conn_string = \"PG:dbname=GEO user=postgres password=121212 host=localhost port=5432\"\n",
    "gdb_path = r\"C:\\Users\\Janus\\Desktop\\Nueva carpeta\\mi_geodatabase.gdb\"\n",
    "\n",
    "# Llamar a la función de conversión\n",
    "convertir_postgis_a_gdb(postgis_conn_string, gdb_path)\n"
   ]
  },
  {
   "cell_type": "code",
   "execution_count": null,
   "id": "9f7df4ce-6f14-4ccb-8a08-0eee212d7a57",
   "metadata": {},
   "outputs": [],
   "source": [
    "\n"
   ]
  }
 ],
 "metadata": {
  "kernelspec": {
   "display_name": "Python 3 (ipykernel)",
   "language": "python",
   "name": "python3"
  },
  "language_info": {
   "codemirror_mode": {
    "name": "ipython",
    "version": 3
   },
   "file_extension": ".py",
   "mimetype": "text/x-python",
   "name": "python",
   "nbconvert_exporter": "python",
   "pygments_lexer": "ipython3",
   "version": "3.11.7"
  }
 },
 "nbformat": 4,
 "nbformat_minor": 5
}
